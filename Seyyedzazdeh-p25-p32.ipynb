{
 "cells": [
  {
   "cell_type": "code",
   "execution_count": 6,
   "metadata": {
    "ExecuteTime": {
     "end_time": "2023-06-07T14:45:30.443666Z",
     "start_time": "2023-06-07T14:45:26.009781Z"
    },
    "colab": {
     "base_uri": "https://localhost:8080/",
     "height": 0
    },
    "id": "IwH8ukAmpuRa",
    "outputId": "277c8ba1-a479-4898-e998-373833c7a42d"
   },
   "outputs": [],
   "source": [
    "import networkx as nx"
   ]
  },
  {
   "cell_type": "code",
   "execution_count": 7,
   "metadata": {},
   "outputs": [],
   "source": [
    "realGrapth = nx.read_edgelist(\"ca-AstroPh.txt\")"
   ]
  },
  {
   "attachments": {},
   "cell_type": "markdown",
   "metadata": {},
   "source": [
    "25 Erdös–Rényi random graph (G(n, m): Generate a random instance of this model\n",
    "by using the number of nodes and edges as the real world graph"
   ]
  },
  {
   "cell_type": "code",
   "execution_count": 8,
   "metadata": {
    "ExecuteTime": {
     "end_time": "2023-06-07T13:20:29.649382Z",
     "start_time": "2023-06-07T13:20:28.302765Z"
    },
    "colab": {
     "base_uri": "https://localhost:8080/",
     "height": 0
    },
    "id": "Vwvtwkh_sxfp",
    "outputId": "76a3e3ec-74f4-4ee3-f2e6-5a1d7986fc1c"
   },
   "outputs": [],
   "source": [
    "erdosGraph = nx.gnm_random_graph(realGrapth.number_of_nodes(), realGrapth.number_of_edges())"
   ]
  },
  {
   "attachments": {},
   "cell_type": "markdown",
   "metadata": {},
   "source": [
    "26 Configuration model random graph: Generate a random instance of this model\n",
    "by using the graph in the dataset."
   ]
  },
  {
   "cell_type": "code",
   "execution_count": 9,
   "metadata": {
    "ExecuteTime": {
     "end_time": "2023-06-07T13:20:47.604183Z",
     "start_time": "2023-06-07T13:20:36.123110Z"
    },
    "colab": {
     "base_uri": "https://localhost:8080/",
     "height": 0
    },
    "id": "TxmzR6Xpx4Bv",
    "outputId": "446f7a4d-e7d1-4d2c-9298-bbedd751f227"
   },
   "outputs": [],
   "source": [
    "degreeList=[]\n",
    "for node , degree in realGrapth.degree():\n",
    "    degreeList.append(degree)\n",
    "configurationGraph = nx.configuration_model(degreeList)\n",
    "configurationGraph=nx.Graph(configurationGraph)"
   ]
  },
  {
   "cell_type": "code",
   "execution_count": 5,
   "metadata": {},
   "outputs": [
    {
     "name": "stdout",
     "output_type": "stream",
     "text": [
      " RealGraph Number of nodes: 18772 Number of edges: 198110\n",
      " configurationGraph Number of nodes: 18772 Number of edges: 197092\n",
      " erdosGraph Number of nodes: 18772 Number of edges: 198110\n"
     ]
    }
   ],
   "source": [
    "print(f' RealGraph Number of nodes: {realGrapth.number_of_nodes()} Number of edges: {realGrapth.number_of_edges()}')\n",
    "print(f' configurationGraph Number of nodes: {configurationGraph.number_of_nodes()} Number of edges: {configurationGraph.number_of_edges()}')\n",
    "print(f' erdosGraph Number of nodes: {erdosGraph.number_of_nodes()} Number of edges: {erdosGraph.number_of_edges()}')"
   ]
  },
  {
   "attachments": {},
   "cell_type": "markdown",
   "metadata": {},
   "source": [
    "27 Degree distributions"
   ]
  },
  {
   "cell_type": "code",
   "execution_count": 12,
   "metadata": {},
   "outputs": [],
   "source": [
    "def calcuateDegreeDistribution(grapth):\n",
    "    DegreeDistribition = dict()\n",
    "    for node, degree in grapth.degree():\n",
    "        if DegreeDistribition.keys().__contains__(degree):\n",
    "            DegreeDistribition[degree] += 1\n",
    "        else:\n",
    "            DegreeDistribition[degree] = 1\n",
    "    return DegreeDistribition\n"
   ]
  },
  {
   "cell_type": "code",
   "execution_count": null,
   "metadata": {
    "ExecuteTime": {
     "end_time": "2023-06-07T13:21:56.837447Z",
     "start_time": "2023-06-07T13:20:53.333262Z"
    },
    "colab": {
     "base_uri": "https://localhost:8080/",
     "height": 546
    },
    "id": "dTzWuKSqIWwY",
    "outputId": "2c49f4f4-dc3e-49a8-c7ee-076eb62b210f"
   },
   "outputs": [],
   "source": [
    "realGraphDegreeDistribition=calcuateDegreeDistribution(realGrapth)\n",
    "erdosraphDegreeDistribition=calcuateDegreeDistribution(erdosGraph)\n",
    "configurationGraphDegreeDistribition=calcuateDegreeDistribution(configurationGraph)\n"
   ]
  },
  {
   "attachments": {},
   "cell_type": "markdown",
   "metadata": {},
   "source": [
    "28 Shortest path length distributions"
   ]
  },
  {
   "cell_type": "code",
   "execution_count": 13,
   "metadata": {},
   "outputs": [],
   "source": [
    "def calculateShortestPathDistribution(graph):\n",
    "    shortestPathLengths = dict(nx.shortest_path_length(graph))\n",
    "    pathLengthDistiribution = dict()\n",
    "    for node in shortestPathLengths:\n",
    "        for path_length in shortestPathLengths[node].values():\n",
    "            if path_length in pathLengthDistiribution:\n",
    "                pathLengthDistiribution[path_length] += 1\n",
    "            else:\n",
    "                pathLengthDistiribution[path_length] = 1\n",
    "    return pathLengthDistiribution"
   ]
  },
  {
   "cell_type": "code",
   "execution_count": null,
   "metadata": {},
   "outputs": [],
   "source": [
    "realGraphShortestPathDistribition=calculateShortestPathDistribution(realGrapth)\n",
    "erdosraphShortestPathDistribition=calculateShortestPathDistribution(erdosGraph)\n",
    "configurationGraphShortestPathDistribition=calculateShortestPathDistribution(configurationGraph)\n"
   ]
  },
  {
   "attachments": {},
   "cell_type": "markdown",
   "metadata": {},
   "source": [
    "29 Clustering coefficient distributions"
   ]
  },
  {
   "cell_type": "code",
   "execution_count": 14,
   "metadata": {},
   "outputs": [],
   "source": [
    "def calculateClusteringCoefficientDistribution(graph):\n",
    "    clusteringCoefficients = nx.clustering(graph)\n",
    "    distribution = dict()\n",
    "    for cc in clusteringCoefficients.values():\n",
    "        distribution[cc] = distribution.get(cc, 0) + 1"
   ]
  },
  {
   "cell_type": "code",
   "execution_count": null,
   "metadata": {},
   "outputs": [],
   "source": [
    "realCoefficientDistribution=calculateClusteringCoefficientDistribution(realGrapth)\n",
    "erdosDistribution=calculateClusteringCoefficientDistribution(erdosGraph)\n",
    "configurationDistribution=calculateClusteringCoefficientDistribution(configurationGraph)"
   ]
  },
  {
   "attachments": {},
   "cell_type": "markdown",
   "metadata": {},
   "source": [
    "30 WCC size distributions"
   ]
  },
  {
   "cell_type": "code",
   "execution_count": 15,
   "metadata": {},
   "outputs": [],
   "source": [
    "wccSizeList=[]\n",
    "conectedComponents=nx.connected_components(realGrapth)\n",
    "for cc in conectedComponents:\n",
    "    wccSizeList.append(len(cc))\n",
    "\n",
    "wwcSistribution = dict()\n",
    "for size in wccSizeList:\n",
    "        if wwcSistribution.keys().__contains__(size):\n",
    "            wwcSistribution[size] += 1\n",
    "        else:\n",
    "            wwcSistribution[size] = 1"
   ]
  },
  {
   "attachments": {},
   "cell_type": "markdown",
   "metadata": {},
   "source": [
    "31 For each of these distributions, state whether or not the random models have the\n",
    "same property as the real world graph"
   ]
  },
  {
   "attachments": {},
   "cell_type": "markdown",
   "metadata": {},
   "source": [
    "32 Are the random graph generators capable of generating graphs that are representative of real world graphs?"
   ]
  }
 ],
 "metadata": {
  "colab": {
   "provenance": []
  },
  "kernelspec": {
   "display_name": "Python 3 (ipykernel)",
   "language": "python",
   "name": "python3"
  },
  "language_info": {
   "codemirror_mode": {
    "name": "ipython",
    "version": 3
   },
   "file_extension": ".py",
   "mimetype": "text/x-python",
   "name": "python",
   "nbconvert_exporter": "python",
   "pygments_lexer": "ipython3",
   "version": "3.11.3"
  }
 },
 "nbformat": 4,
 "nbformat_minor": 0
}
