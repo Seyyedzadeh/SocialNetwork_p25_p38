{
 "cells": [
  {
   "cell_type": "code",
   "execution_count": null,
   "metadata": {
    "ExecuteTime": {
     "end_time": "2023-06-07T15:24:50.834254Z",
     "start_time": "2023-06-07T15:24:50.780851Z"
    },
    "colab": {
     "base_uri": "https://localhost:8080/"
    },
    "id": "P2j1DlMwJlK4",
    "outputId": "4d723e99-68e2-48f6-a5aa-7ed464d4c541"
   },
   "outputs": [],
   "source": [
    "import networkx as nx"
   ]
  },
  {
   "cell_type": "code",
   "execution_count": null,
   "metadata": {},
   "outputs": [],
   "source": [
    "realGrapth= nx.read_edgelist(\"ca-AstroPh.txt\")"
   ]
  },
  {
   "cell_type": "code",
   "execution_count": null,
   "metadata": {},
   "outputs": [],
   "source": [
    "nodes = 3000\n",
    "nearestNeighbors = 10  \n",
    "probabilityOfRewiring= 0.05  \n",
    "smallWorldgraph = nx.watts_strogatz_graph(nodes, nearestNeighbors, probabilityOfRewiring)"
   ]
  },
  {
   "attachments": {},
   "cell_type": "markdown",
   "metadata": {},
   "source": [
    "33 Degree distribution"
   ]
  },
  {
   "cell_type": "code",
   "execution_count": null,
   "metadata": {},
   "outputs": [],
   "source": [
    "def calcuateDegreeDistribution(grapth):\n",
    "    DegreeDistribition = dict()\n",
    "    for node, degree in grapth.degree():\n",
    "        if DegreeDistribition.keys().__contains__(degree):\n",
    "            DegreeDistribition[degree] += 1\n",
    "        else:\n",
    "            DegreeDistribition[degree] = 1\n",
    "    return DegreeDistribition"
   ]
  },
  {
   "cell_type": "code",
   "execution_count": null,
   "metadata": {},
   "outputs": [],
   "source": [
    "calcuateDegreeDistribution(smallWorldgraph)"
   ]
  },
  {
   "attachments": {},
   "cell_type": "markdown",
   "metadata": {},
   "source": [
    "34 Short path length distribution"
   ]
  },
  {
   "cell_type": "code",
   "execution_count": null,
   "metadata": {},
   "outputs": [],
   "source": [
    "def calculateShortestPathDistribution(graph):\n",
    "    shortestPathLengths = dict(nx.shortest_path_length(graph))\n",
    "    pathLengthDistiribution = dict()\n",
    "    for node in shortestPathLengths:\n",
    "        for path_length in shortestPathLengths[node].values():\n",
    "            if path_length in pathLengthDistiribution:\n",
    "                pathLengthDistiribution[path_length] += 1\n",
    "            else:\n",
    "                pathLengthDistiribution[path_length] = 1\n",
    "    return pathLengthDistiribution"
   ]
  },
  {
   "cell_type": "code",
   "execution_count": null,
   "metadata": {},
   "outputs": [],
   "source": [
    "calculateShortestPathDistribution(smallWorldgraph)"
   ]
  },
  {
   "attachments": {},
   "cell_type": "markdown",
   "metadata": {},
   "source": [
    "35 Clustering coefficient distribution"
   ]
  },
  {
   "cell_type": "code",
   "execution_count": null,
   "metadata": {},
   "outputs": [],
   "source": [
    "def calculateClusteringCoefficientDistribution(graph):\n",
    "    clusteringCoefficients = nx.clustering(graph)\n",
    "    distribution = dict()\n",
    "    for cc in clusteringCoefficients.values():\n",
    "        distribution[cc] = distribution.get(cc, 0) + 1"
   ]
  },
  {
   "cell_type": "code",
   "execution_count": null,
   "metadata": {},
   "outputs": [],
   "source": [
    "calculateClusteringCoefficientDistribution(smallWorldgraph)"
   ]
  },
  {
   "attachments": {},
   "cell_type": "markdown",
   "metadata": {},
   "source": [
    "36 WCC size distribution"
   ]
  },
  {
   "cell_type": "code",
   "execution_count": null,
   "metadata": {},
   "outputs": [],
   "source": [
    "def calulateWccDistribution(graph):\n",
    "    wccSizeList=[]\n",
    "    conectedComponents=nx.connected_components(graph)\n",
    "    for cc in conectedComponents:\n",
    "        wccSizeList.append(len(cc))\n",
    "\n",
    "    wwcSistribution = dict()\n",
    "    for size in wccSizeList:\n",
    "            if wwcSistribution.keys().__contains__(size):\n",
    "                wwcSistribution[size] += 1\n",
    "            else:\n",
    "                wwcSistribution[size] = 1\n",
    "    return wwcSistribution"
   ]
  },
  {
   "cell_type": "code",
   "execution_count": null,
   "metadata": {},
   "outputs": [],
   "source": [
    "calulateWccDistribution(smallWorldgraph)"
   ]
  },
  {
   "attachments": {},
   "cell_type": "markdown",
   "metadata": {},
   "source": [
    "37 For each of these distributions, state whether or not the small world model has\n",
    "the same property as the real world graph"
   ]
  },
  {
   "attachments": {},
   "cell_type": "markdown",
   "metadata": {},
   "source": [
    "38 Is the small world graph generator capable of generating graphs that are representative of real world graphs?"
   ]
  }
 ],
 "metadata": {
  "colab": {
   "provenance": []
  },
  "kernelspec": {
   "display_name": "Python 3 (ipykernel)",
   "language": "python",
   "name": "python3"
  },
  "language_info": {
   "codemirror_mode": {
    "name": "ipython",
    "version": 3
   },
   "file_extension": ".py",
   "mimetype": "text/x-python",
   "name": "python",
   "nbconvert_exporter": "python",
   "pygments_lexer": "ipython3",
   "version": "3.11.3"
  }
 },
 "nbformat": 4,
 "nbformat_minor": 0
}
